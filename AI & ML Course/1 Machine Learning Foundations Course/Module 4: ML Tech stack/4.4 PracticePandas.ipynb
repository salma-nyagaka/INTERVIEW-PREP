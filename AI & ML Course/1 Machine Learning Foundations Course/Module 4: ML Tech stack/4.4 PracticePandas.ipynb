{
 "cells": [
  {
   "cell_type": "markdown",
   "metadata": {},
   "source": [
    "## Pandas: Creating & Viewing Data\n",
    "\n",
    "Pandas is a popular package in the Python Machine Learning ecosystem. It is used for data manipulation and analysis and offers many unique features. Pandas is tailored toward working with structured, tabular data, such as the kind of data that you would find in spreadsheets and in relational databases. \n",
    "\n",
    "One of Pandas' core data structures is called the DataFrame, which is a two-dimensional table in which data is organized in rows and columns. Pandas is well integrated in the Python Machine Learning ecosystem. Many common ML libraries work with Pandas DataFrames, allowing for a seamless transition from data preparation to model building.\n",
    "\n",
    "Pandas is the primary package we will use in this program to operate on data. In this exercise you will use Pandas to practice creating data, accessing and viewing data.\n",
    "\n",
    "For more information about the Pandas package and Pandas DataFrames, consult the Pandas online [API Reference](https://pandas.pydata.org/docs/reference/index.html)."
   ]
  },
  {
   "cell_type": "markdown",
   "metadata": {},
   "source": [
    "## Step 1\n",
    "\n",
    "The code cell below imports the `pandas` package, using its conventional shorthand name, `pd`. It then imports the `numpy` package using its conventional shorthand name, `np`. Run the cell below."
   ]
  },
  {
   "cell_type": "code",
   "execution_count": 1,
   "metadata": {},
   "outputs": [],
   "source": [
    "import pandas as pd\n",
    "import numpy as np"
   ]
  },
  {
   "cell_type": "markdown",
   "metadata": {},
   "source": [
    "## Step 2\n",
    "\n",
    "In the code cell below, use numpy's `np.random.normal()` function to create two arrays, each with size=100, loc=0.0, and scale=1.0. Name your arrays `a` and `b`.\n",
    "\n",
    "\n",
    "If you would like to learn how to use the `np.random.normal()` function, use the help <b>?</b> functionality by running the line `np.random.normal?` in the code cell below. Recall that you can use help by specifying the function name (in this case, `np.random.normal`), followed by `?`. You can also access the online [documentation](https://numpy.org/doc/stable/reference/random/generated/numpy.random.normal.html).\n",
    "\n"
   ]
  },
  {
   "cell_type": "markdown",
   "metadata": {},
   "source": [
    "### Graded Cell\n",
    "\n",
    "The cell below will be graded. Remove the line \"raise NotImplementedError()\" before writing your code."
   ]
  },
  {
   "cell_type": "code",
   "execution_count": 2,
   "metadata": {
    "deletable": false,
    "nbgrader": {
     "checksum": "ee34189787d27b0e4cfc16d497ebc2f7",
     "grade": false,
     "grade_id": "cell-a-b",
     "locked": false,
     "schema_version": 1,
     "solution": true
    }
   },
   "outputs": [
    {
     "name": "stdout",
     "output_type": "stream",
     "text": [
      "(100,)\n",
      "(100,)\n"
     ]
    }
   ],
   "source": [
    "a = np.random.normal(size=100, loc=0.0, scale=1.0)\n",
    "\n",
    "b = np.random.normal(size=100, loc=0.0, scale=1.0)\n",
    "\n",
    "print( a.shape)\n",
    "\n",
    "print(b.shape)"
   ]
  },
  {
   "cell_type": "markdown",
   "metadata": {},
   "source": [
    "### Self-Check\n",
    "\n",
    "Run the cell below to test the correctness of your code above before submitting for grading. Do not add code or delete code in the cell."
   ]
  },
  {
   "cell_type": "code",
   "execution_count": 3,
   "metadata": {
    "deletable": false,
    "editable": false,
    "nbgrader": {
     "checksum": "cb20f6f7fabe601393f74b7a0a3b0805",
     "grade": true,
     "grade_id": "cell-a-b-test",
     "locked": true,
     "points": 1,
     "schema_version": 1,
     "solution": false
    }
   },
   "outputs": [
    {
     "name": "stdout",
     "output_type": "stream",
     "text": [
      "Correct!\n"
     ]
    }
   ],
   "source": [
    "# Run this self-test cell to check your code; \n",
    "# do not add code or delete code in this cell\n",
    "from jn import testAB\n",
    "\n",
    "try:\n",
    "    p, err = testAB(a,b)\n",
    "    print(err)\n",
    "except Exception as e:\n",
    "    print(\"Error!\\n\" + str(e))\n",
    "    \n"
   ]
  },
  {
   "cell_type": "markdown",
   "metadata": {},
   "source": [
    "## Step 3\n",
    "\n",
    "Now we'll convert our data to a Pandas DataFrame. The `DataFrame()` function is the primary way to create DataFrames. You will use this approach to create a DataFrame out of the two arrays created in the previous step. \n",
    "\n",
    "Your DataFrame will contain two columns, named `x1` and `x2`.\n",
    "\n",
    "1: First create a Python dictionary in which the keys are the names of the columns you want to create, and the values are the arrays. Column `x1` will contain array `a` and column `x2` will contain array `b`. Assign this dictionary to variable `d`.\n",
    "\n",
    "2: Next use the `pd.DataFrame()` function to convert dictionary `d` to a DataFrame, and assign the result to variable `df`.\n",
    "\n",
    "For more information on how to use the `DataFrame()` function, consult the online [documentation](https://pandas.pydata.org/docs/reference/api/pandas.DataFrame.html#pandas.DataFrame)."
   ]
  },
  {
   "cell_type": "markdown",
   "metadata": {},
   "source": [
    "### Graded Cell\n",
    "\n",
    "The cell below will be graded. Remove the line \"raise NotImplementedError()\" before writing your code."
   ]
  },
  {
   "cell_type": "code",
   "execution_count": 9,
   "metadata": {
    "deletable": false,
    "nbgrader": {
     "checksum": "03e92bb3bc377629072eafb372f2e22f",
     "grade": false,
     "grade_id": "cell-df",
     "locked": false,
     "schema_version": 1,
     "solution": true
    }
   },
   "outputs": [
    {
     "name": "stdout",
     "output_type": "stream",
     "text": [
      "<class 'pandas.core.frame.DataFrame'>\n",
      "RangeIndex: 100 entries, 0 to 99\n",
      "Data columns (total 2 columns):\n",
      " #   Column  Non-Null Count  Dtype  \n",
      "---  ------  --------------  -----  \n",
      " 0   x1      100 non-null    float64\n",
      " 1   x2      100 non-null    float64\n",
      "dtypes: float64(2)\n",
      "memory usage: 1.7 KB\n",
      "None\n",
      "         x1        x2\n",
      "0 -1.756490  0.199736\n",
      "1 -0.008365  0.239409\n",
      "2  0.664400 -0.667464\n",
      "3 -0.697021  1.509248\n",
      "4 -0.146670 -0.859329\n"
     ]
    }
   ],
   "source": [
    "a = np.random.normal(size=100, loc=0.0, scale=1.0)\n",
    "\n",
    "b = np.random.normal(size=100, loc=0.0, scale=1.0)\n",
    "\n",
    "d = {\n",
    "\n",
    "    'x1': a,\n",
    "\n",
    "    'x2': b\n",
    "\n",
    "}\n",
    "\n",
    "df = pd.DataFrame(d)\n",
    "\n",
    "print(df.info())\n",
    "\n",
    "print(df.head())\n"
   ]
  },
  {
   "cell_type": "markdown",
   "metadata": {},
   "source": [
    "### Self-Check\n",
    "\n",
    "Run the cell below to test the correctness of your code above before submitting for grading. Do not add code or delete code in the cell."
   ]
  },
  {
   "cell_type": "code",
   "execution_count": 5,
   "metadata": {
    "deletable": false,
    "editable": false,
    "nbgrader": {
     "checksum": "435674309e871e93dece73fc69184e14",
     "grade": true,
     "grade_id": "cell-df-test",
     "locked": true,
     "points": 2,
     "schema_version": 1,
     "solution": false
    }
   },
   "outputs": [
    {
     "name": "stdout",
     "output_type": "stream",
     "text": [
      "Correct!\n"
     ]
    }
   ],
   "source": [
    "# Run this self-test cell to check your code; \n",
    "# do not add code or delete code in this cell\n",
    "from jn import testDf\n",
    "\n",
    "try:\n",
    "    p, err = testDf(d,df,a,b)\n",
    "    print(err)\n",
    "except Exception as e:\n",
    "    print(\"Error!\\n\" + str(e))\n",
    "    \n"
   ]
  },
  {
   "cell_type": "markdown",
   "metadata": {},
   "source": [
    "### Step 4\n",
    "\n",
    "The Pandas `head()` method allows you to view the first <i>n</i> rows in a DataFrame. The syntax is `DataFrame_obj.head()`. You can consult the [online documentation](https://pandas.pydata.org/docs/reference/api/pandas.DataFrame.head.html) to see how to use this method. You can also use IPython's `help` functionality by typing `df.head?` in the cell below. Recall that you can obtain documentation by specifying the object name (in this case, `df`), followed by the method or property (in this case, `head`), followed by `?`.\n",
    "\n",
    "\n",
    "In the code cell below, use the `head()` method to view the first 5 rows of dataframe `df`.\n"
   ]
  },
  {
   "cell_type": "code",
   "execution_count": 10,
   "metadata": {},
   "outputs": [
    {
     "name": "stdout",
     "output_type": "stream",
     "text": [
      "         x1        x2\n",
      "0 -1.756490  0.199736\n",
      "1 -0.008365  0.239409\n",
      "2  0.664400 -0.667464\n",
      "3 -0.697021  1.509248\n",
      "4 -0.146670 -0.859329\n"
     ]
    }
   ],
   "source": [
    "# YOUR CODE HERE - this cell will not be graded\n",
    "print(df.head())\n"
   ]
  },
  {
   "cell_type": "markdown",
   "metadata": {},
   "source": [
    "### DataFrame Indexing and Slicing\n",
    "\n",
    "As you have seen, DataFrames are two-dimensional tables, labeled by row and column names, containing a set of column-oriented data such that each column has a particular datatype (dtype). Like Python lists, Pandas DataFrames use 0-based indexing. That is, the first row in a DataFrame has an index of 0 and the first column in a DataFrame has an index of 0.\n",
    "\n",
    "You may be familiar with indexing, which is the process of accessing elements of data in a data structure such as a list or a dictionary by specifying which element(s) one is interested in. Just as you can index into Python lists and dictionaries, you can also index into Pandas DataFrames. Because DataFrames have row and column labels (names), Pandas provides a very useful ability to index, either based on those labels or on the positions of rows and columns. For example: Python lists and NumPy arrays are indexed by integer position (e.g., ```my_list[3]``` or ```my_array[5,7]```), while Python dictionaries are indexed by keys (e.g., ```my_dict['name']```).  Because Pandas DataFrames contain data in a positional order, *and* have row and column labels, they can be indexed both by position and by label. You can also \"slice\" a Pandas DataFrame. Slicing allows you to select a subset of rows or columns from the DataFrame. Just as with Python lists, slicing is supported using the colon operator ```:``` (you can also use the colon operator to slice into NumPy arrays).\n",
    "\n",
    "\n",
    "#### Mechanisms for indexing and Slicing\n",
    "\n",
    "Indexing and slicing DataFrames can be done through various mechanisms: \n",
    "\n",
    "* ```[]```\n",
    "* ```loc[]```\n",
    "* ```iloc[]```\n",
    "\n",
    "\n",
    "The first of these, ```[]```, is the square-bracket based indexing that we are familiar with from Python lists and  dictionaries.  Because Pandas DataFrames are generally column-oriented, however, indexing with square brackets results in selecting a particular column based on its label. Each column in the DataFrame is of the Pandas Series datatype, which is a one-dimensional array, similar to a NumPy array. We can loosely think of a DataFrame as something like a dictionary of Series objects: each column label is like a key, and the value associated with that key is the data in that particular column, which is a Pandas Series.  For example, ```df['x2']``` will extract the column labeled 'x2' and will return a Series. \n",
    "\n",
    "You can slice a DataFrame using square-bracket based indexing. This will allow you to slice the rows in the DataFrame using an integer range. For example, `df[:3]` will return the first three rows in the DataFrame.\n",
    "\n",
    "Indexing and slicing a DataFrame using ```loc``` is more general, in that it enables you to access both rows and columns based on their labels.  It uses the same sort of multi-dimensional indexing that you may have seen with other data structures (e.g. `[][]`), although with row and/or column labels rather than integer positional indexes.  By this we mean that the first entry in an index refers to row label, and the second index refers to a column label.  If only one entry is specified, it is used to identify a row in a DataFrame. The syntax for `loc` is `DataFrame_obj.loc[]` or `DataFrame_obj.loc[][]`. \n",
    "\n",
    "On the other hand, `iloc` allows you to access rows and columns with specific integer positions (integer-based indexing). The syntax for `iloc` is `DataFrame_obj.iloc[]` or `DataFrame_obj.iloc[][]`.\n",
    "\n",
    "\n",
    "In the steps below, you will practice indexing and slicing a DataFrame using some of the above methods.  Online Pandas documentation describing indexing and slicing in great detail can be found [here](https://pandas.pydata.org/pandas-docs/stable/user_guide/indexing.html).\n",
    "\n",
    "\n"
   ]
  },
  {
   "cell_type": "markdown",
   "metadata": {},
   "source": [
    "### Step 5\n",
    "\n",
    "Add a new column to your `df` DataFrame. You can add this new column to `df` by:\n",
    "1. using bracket notation and specifying the label of the new column: <code>df['new_column_label']</code>\n",
    "2. assigning it the values of the column: \n",
    "<code>df['new_column_label'] = column values</code>\n",
    "\n",
    "\n",
    "Name your new column <b>x3</b>.  Column <b>x3</b> will consist of the sum of the values in column <b>x1</b> and column <b>x2</b>. Hint: You can access each column using bracket notation as seen above, and you can add entire columns together using the addition operation (`+`).\n",
    "\n",
    "After you have added the new column `x3` to DataFrame `df`, use the `head()` method to examine the new values in `df`.\n"
   ]
  },
  {
   "cell_type": "markdown",
   "metadata": {},
   "source": [
    "### Graded Cell\n",
    "\n",
    "The cell below will be graded. Remove the line \"raise NotImplementedError()\" before writing your code."
   ]
  },
  {
   "cell_type": "code",
   "execution_count": 11,
   "metadata": {
    "deletable": false,
    "nbgrader": {
     "checksum": "4c3d49749599ff1b250540fd6b1c6c5f",
     "grade": false,
     "grade_id": "cell-columnx3",
     "locked": false,
     "schema_version": 1,
     "solution": true
    }
   },
   "outputs": [
    {
     "name": "stdout",
     "output_type": "stream",
     "text": [
      "         x1        x2        x3\n",
      "0 -1.756490  0.199736 -1.556754\n",
      "1 -0.008365  0.239409  0.231044\n",
      "2  0.664400 -0.667464 -0.003064\n",
      "3 -0.697021  1.509248  0.812227\n",
      "4 -0.146670 -0.859329 -1.005999\n"
     ]
    }
   ],
   "source": [
    "df['x3'] = df['x1'] + df['x2'] \n",
    "\n",
    "print(df.head())"
   ]
  },
  {
   "cell_type": "markdown",
   "metadata": {},
   "source": [
    "### Self-Check\n",
    "\n",
    "Run the cell below to test the correctness of your code above before submitting for grading. Do not add code or delete code in the cell."
   ]
  },
  {
   "cell_type": "code",
   "execution_count": 10,
   "metadata": {
    "deletable": false,
    "editable": false,
    "nbgrader": {
     "checksum": "8ecd6ff2e99854b55e490a6334700801",
     "grade": true,
     "grade_id": "cell-columnx3-test",
     "locked": true,
     "points": 2,
     "schema_version": 1,
     "solution": false
    }
   },
   "outputs": [
    {
     "name": "stdout",
     "output_type": "stream",
     "text": [
      "Correct!\n"
     ]
    }
   ],
   "source": [
    "# Run this self-test cell to check your code; \n",
    "# do not add code or delete code in this cell\n",
    "from jn import testCol\n",
    "\n",
    "try:\n",
    "    p, err = testCol(df)\n",
    "    print(err)\n",
    "except Exception as e:\n",
    "    print(\"Error!\\n\" + str(e))\n",
    "    \n"
   ]
  },
  {
   "cell_type": "markdown",
   "metadata": {},
   "source": [
    "### Step 6\n",
    "\n",
    "Oftentimes you may want to access a value in a specific example (row) in your DataFrame. Run the code cell below and examine the values in DataFrame `df`. Note the value in column <b>x1</b> of row <b>5</b> (row with the index of 5).\n"
   ]
  },
  {
   "cell_type": "code",
   "execution_count": 12,
   "metadata": {},
   "outputs": [
    {
     "data": {
      "text/html": [
       "<div>\n",
       "<style scoped>\n",
       "    .dataframe tbody tr th:only-of-type {\n",
       "        vertical-align: middle;\n",
       "    }\n",
       "\n",
       "    .dataframe tbody tr th {\n",
       "        vertical-align: top;\n",
       "    }\n",
       "\n",
       "    .dataframe thead th {\n",
       "        text-align: right;\n",
       "    }\n",
       "</style>\n",
       "<table border=\"1\" class=\"dataframe\">\n",
       "  <thead>\n",
       "    <tr style=\"text-align: right;\">\n",
       "      <th></th>\n",
       "      <th>x1</th>\n",
       "      <th>x2</th>\n",
       "      <th>x3</th>\n",
       "    </tr>\n",
       "  </thead>\n",
       "  <tbody>\n",
       "    <tr>\n",
       "      <th>0</th>\n",
       "      <td>-1.756490</td>\n",
       "      <td>0.199736</td>\n",
       "      <td>-1.556754</td>\n",
       "    </tr>\n",
       "    <tr>\n",
       "      <th>1</th>\n",
       "      <td>-0.008365</td>\n",
       "      <td>0.239409</td>\n",
       "      <td>0.231044</td>\n",
       "    </tr>\n",
       "    <tr>\n",
       "      <th>2</th>\n",
       "      <td>0.664400</td>\n",
       "      <td>-0.667464</td>\n",
       "      <td>-0.003064</td>\n",
       "    </tr>\n",
       "    <tr>\n",
       "      <th>3</th>\n",
       "      <td>-0.697021</td>\n",
       "      <td>1.509248</td>\n",
       "      <td>0.812227</td>\n",
       "    </tr>\n",
       "    <tr>\n",
       "      <th>4</th>\n",
       "      <td>-0.146670</td>\n",
       "      <td>-0.859329</td>\n",
       "      <td>-1.005999</td>\n",
       "    </tr>\n",
       "    <tr>\n",
       "      <th>5</th>\n",
       "      <td>-1.377513</td>\n",
       "      <td>-0.382969</td>\n",
       "      <td>-1.760482</td>\n",
       "    </tr>\n",
       "  </tbody>\n",
       "</table>\n",
       "</div>"
      ],
      "text/plain": [
       "         x1        x2        x3\n",
       "0 -1.756490  0.199736 -1.556754\n",
       "1 -0.008365  0.239409  0.231044\n",
       "2  0.664400 -0.667464 -0.003064\n",
       "3 -0.697021  1.509248  0.812227\n",
       "4 -0.146670 -0.859329 -1.005999\n",
       "5 -1.377513 -0.382969 -1.760482"
      ]
     },
     "execution_count": 12,
     "metadata": {},
     "output_type": "execute_result"
    }
   ],
   "source": [
    "df.head(6)"
   ]
  },
  {
   "cell_type": "markdown",
   "metadata": {},
   "source": [
    "Pandas allows you to retrieve this value. It allows you to access a row as if it were a list using either `iloc` or `loc`. You can specify the column and row by using bracket notation and supplying either the label when using `loc` or its numerical index position when using `iloc`. \n",
    "\n",
    "Examine the code in the cells below and run the cells to see the results. Notice that they both return the expected value."
   ]
  },
  {
   "cell_type": "code",
   "execution_count": 17,
   "metadata": {},
   "outputs": [
    {
     "data": {
      "text/plain": [
       "np.float64(-1.3775129232979613)"
      ]
     },
     "execution_count": 17,
     "metadata": {},
     "output_type": "execute_result"
    }
   ],
   "source": [
    "# Note that while loc accesses rows based on their labels (names), the code is using an integer value to \n",
    "# access the row. \n",
    "# This is because in DataFrame df, a row's label is the same as its numerical index position.\n",
    "# Therefore loc is using the label of 5 to access the row\n",
    "\n",
    "df.loc[5]['x1']"
   ]
  },
  {
   "cell_type": "code",
   "execution_count": 18,
   "metadata": {},
   "outputs": [
    {
     "name": "stderr",
     "output_type": "stream",
     "text": [
      "/var/folders/93/rz8r2jvd029bdqgkk56r8z0h0000gn/T/ipykernel_13117/718544433.py:1: FutureWarning: Series.__getitem__ treating keys as positions is deprecated. In a future version, integer keys will always be treated as labels (consistent with DataFrame behavior). To access a value by position, use `ser.iloc[pos]`\n",
      "  df.iloc[5][0]\n"
     ]
    },
    {
     "data": {
      "text/plain": [
       "np.float64(-1.3775129232979613)"
      ]
     },
     "execution_count": 18,
     "metadata": {},
     "output_type": "execute_result"
    }
   ],
   "source": [
    "df.iloc[5][0]"
   ]
  },
  {
   "cell_type": "markdown",
   "metadata": {},
   "source": [
    "### Step 7\n",
    "\n",
    "You can also access a subset of rows and columns in a DataFrame using slicing. The code cell below retrieves the rows starting at row 10 and ending at row 13."
   ]
  },
  {
   "cell_type": "code",
   "execution_count": 19,
   "metadata": {},
   "outputs": [
    {
     "data": {
      "text/html": [
       "<div>\n",
       "<style scoped>\n",
       "    .dataframe tbody tr th:only-of-type {\n",
       "        vertical-align: middle;\n",
       "    }\n",
       "\n",
       "    .dataframe tbody tr th {\n",
       "        vertical-align: top;\n",
       "    }\n",
       "\n",
       "    .dataframe thead th {\n",
       "        text-align: right;\n",
       "    }\n",
       "</style>\n",
       "<table border=\"1\" class=\"dataframe\">\n",
       "  <thead>\n",
       "    <tr style=\"text-align: right;\">\n",
       "      <th></th>\n",
       "      <th>x1</th>\n",
       "      <th>x2</th>\n",
       "      <th>x3</th>\n",
       "    </tr>\n",
       "  </thead>\n",
       "  <tbody>\n",
       "    <tr>\n",
       "      <th>10</th>\n",
       "      <td>-0.131331</td>\n",
       "      <td>-0.594717</td>\n",
       "      <td>-0.726048</td>\n",
       "    </tr>\n",
       "    <tr>\n",
       "      <th>11</th>\n",
       "      <td>-1.036168</td>\n",
       "      <td>-1.211411</td>\n",
       "      <td>-2.247579</td>\n",
       "    </tr>\n",
       "    <tr>\n",
       "      <th>12</th>\n",
       "      <td>-0.848881</td>\n",
       "      <td>-0.135296</td>\n",
       "      <td>-0.984177</td>\n",
       "    </tr>\n",
       "    <tr>\n",
       "      <th>13</th>\n",
       "      <td>0.110807</td>\n",
       "      <td>0.839419</td>\n",
       "      <td>0.950226</td>\n",
       "    </tr>\n",
       "  </tbody>\n",
       "</table>\n",
       "</div>"
      ],
      "text/plain": [
       "          x1        x2        x3\n",
       "10 -0.131331 -0.594717 -0.726048\n",
       "11 -1.036168 -1.211411 -2.247579\n",
       "12 -0.848881 -0.135296 -0.984177\n",
       "13  0.110807  0.839419  0.950226"
      ]
     },
     "execution_count": 19,
     "metadata": {},
     "output_type": "execute_result"
    }
   ],
   "source": [
    "df[10:14]"
   ]
  },
  {
   "cell_type": "markdown",
   "metadata": {},
   "source": [
    "You can also use slicing to specify every nth value. The code cell below outputs every 8th row in the DataFrame."
   ]
  },
  {
   "cell_type": "code",
   "execution_count": 20,
   "metadata": {},
   "outputs": [
    {
     "data": {
      "text/html": [
       "<div>\n",
       "<style scoped>\n",
       "    .dataframe tbody tr th:only-of-type {\n",
       "        vertical-align: middle;\n",
       "    }\n",
       "\n",
       "    .dataframe tbody tr th {\n",
       "        vertical-align: top;\n",
       "    }\n",
       "\n",
       "    .dataframe thead th {\n",
       "        text-align: right;\n",
       "    }\n",
       "</style>\n",
       "<table border=\"1\" class=\"dataframe\">\n",
       "  <thead>\n",
       "    <tr style=\"text-align: right;\">\n",
       "      <th></th>\n",
       "      <th>x1</th>\n",
       "      <th>x2</th>\n",
       "      <th>x3</th>\n",
       "    </tr>\n",
       "  </thead>\n",
       "  <tbody>\n",
       "    <tr>\n",
       "      <th>0</th>\n",
       "      <td>-1.756490</td>\n",
       "      <td>0.199736</td>\n",
       "      <td>-1.556754</td>\n",
       "    </tr>\n",
       "    <tr>\n",
       "      <th>8</th>\n",
       "      <td>-0.401996</td>\n",
       "      <td>-0.256660</td>\n",
       "      <td>-0.658656</td>\n",
       "    </tr>\n",
       "    <tr>\n",
       "      <th>16</th>\n",
       "      <td>-1.518802</td>\n",
       "      <td>-0.377150</td>\n",
       "      <td>-1.895952</td>\n",
       "    </tr>\n",
       "    <tr>\n",
       "      <th>24</th>\n",
       "      <td>0.515455</td>\n",
       "      <td>0.111137</td>\n",
       "      <td>0.626592</td>\n",
       "    </tr>\n",
       "    <tr>\n",
       "      <th>32</th>\n",
       "      <td>0.882042</td>\n",
       "      <td>-0.303527</td>\n",
       "      <td>0.578516</td>\n",
       "    </tr>\n",
       "    <tr>\n",
       "      <th>40</th>\n",
       "      <td>0.282551</td>\n",
       "      <td>1.060407</td>\n",
       "      <td>1.342958</td>\n",
       "    </tr>\n",
       "    <tr>\n",
       "      <th>48</th>\n",
       "      <td>1.681627</td>\n",
       "      <td>-0.463598</td>\n",
       "      <td>1.218029</td>\n",
       "    </tr>\n",
       "    <tr>\n",
       "      <th>56</th>\n",
       "      <td>0.065335</td>\n",
       "      <td>1.782088</td>\n",
       "      <td>1.847423</td>\n",
       "    </tr>\n",
       "    <tr>\n",
       "      <th>64</th>\n",
       "      <td>0.622761</td>\n",
       "      <td>-0.908308</td>\n",
       "      <td>-0.285547</td>\n",
       "    </tr>\n",
       "    <tr>\n",
       "      <th>72</th>\n",
       "      <td>0.063294</td>\n",
       "      <td>-0.559977</td>\n",
       "      <td>-0.496683</td>\n",
       "    </tr>\n",
       "    <tr>\n",
       "      <th>80</th>\n",
       "      <td>0.127636</td>\n",
       "      <td>-2.087551</td>\n",
       "      <td>-1.959916</td>\n",
       "    </tr>\n",
       "    <tr>\n",
       "      <th>88</th>\n",
       "      <td>-1.083055</td>\n",
       "      <td>0.814448</td>\n",
       "      <td>-0.268606</td>\n",
       "    </tr>\n",
       "    <tr>\n",
       "      <th>96</th>\n",
       "      <td>1.058414</td>\n",
       "      <td>0.615993</td>\n",
       "      <td>1.674407</td>\n",
       "    </tr>\n",
       "  </tbody>\n",
       "</table>\n",
       "</div>"
      ],
      "text/plain": [
       "          x1        x2        x3\n",
       "0  -1.756490  0.199736 -1.556754\n",
       "8  -0.401996 -0.256660 -0.658656\n",
       "16 -1.518802 -0.377150 -1.895952\n",
       "24  0.515455  0.111137  0.626592\n",
       "32  0.882042 -0.303527  0.578516\n",
       "40  0.282551  1.060407  1.342958\n",
       "48  1.681627 -0.463598  1.218029\n",
       "56  0.065335  1.782088  1.847423\n",
       "64  0.622761 -0.908308 -0.285547\n",
       "72  0.063294 -0.559977 -0.496683\n",
       "80  0.127636 -2.087551 -1.959916\n",
       "88 -1.083055  0.814448 -0.268606\n",
       "96  1.058414  0.615993  1.674407"
      ]
     },
     "execution_count": 20,
     "metadata": {},
     "output_type": "execute_result"
    }
   ],
   "source": [
    "df[::8]"
   ]
  },
  {
   "cell_type": "markdown",
   "metadata": {},
   "source": [
    "The cell below uses `iloc` to return the column with an index of 2 (column: `x3`) in rows 10-13."
   ]
  },
  {
   "cell_type": "code",
   "execution_count": 21,
   "metadata": {},
   "outputs": [
    {
     "data": {
      "text/html": [
       "<div>\n",
       "<style scoped>\n",
       "    .dataframe tbody tr th:only-of-type {\n",
       "        vertical-align: middle;\n",
       "    }\n",
       "\n",
       "    .dataframe tbody tr th {\n",
       "        vertical-align: top;\n",
       "    }\n",
       "\n",
       "    .dataframe thead th {\n",
       "        text-align: right;\n",
       "    }\n",
       "</style>\n",
       "<table border=\"1\" class=\"dataframe\">\n",
       "  <thead>\n",
       "    <tr style=\"text-align: right;\">\n",
       "      <th></th>\n",
       "      <th>x3</th>\n",
       "    </tr>\n",
       "  </thead>\n",
       "  <tbody>\n",
       "    <tr>\n",
       "      <th>10</th>\n",
       "      <td>-0.726048</td>\n",
       "    </tr>\n",
       "    <tr>\n",
       "      <th>11</th>\n",
       "      <td>-2.247579</td>\n",
       "    </tr>\n",
       "    <tr>\n",
       "      <th>12</th>\n",
       "      <td>-0.984177</td>\n",
       "    </tr>\n",
       "    <tr>\n",
       "      <th>13</th>\n",
       "      <td>0.950226</td>\n",
       "    </tr>\n",
       "  </tbody>\n",
       "</table>\n",
       "</div>"
      ],
      "text/plain": [
       "          x3\n",
       "10 -0.726048\n",
       "11 -2.247579\n",
       "12 -0.984177\n",
       "13  0.950226"
      ]
     },
     "execution_count": 21,
     "metadata": {},
     "output_type": "execute_result"
    }
   ],
   "source": [
    "df.iloc[10:14, [2]]"
   ]
  },
  {
   "cell_type": "markdown",
   "metadata": {},
   "source": [
    "### Step 8\n",
    "\n",
    "Often times you may want to select rows based on the rows meeting certain conditions. This can be done with the syntax of `DataFrame_obj[condition]` where the <b>condition</b> represents some boolean condition on the data. \n",
    "\n",
    "The code cell below uses this method to find out how many rows have a value greater than 1 in column <b>x3</b>. \n",
    "Run the cell below and inspect the results. You will see all of the rows in the DataFrame in which this condition is met."
   ]
  },
  {
   "cell_type": "code",
   "execution_count": 22,
   "metadata": {},
   "outputs": [
    {
     "data": {
      "text/html": [
       "<div>\n",
       "<style scoped>\n",
       "    .dataframe tbody tr th:only-of-type {\n",
       "        vertical-align: middle;\n",
       "    }\n",
       "\n",
       "    .dataframe tbody tr th {\n",
       "        vertical-align: top;\n",
       "    }\n",
       "\n",
       "    .dataframe thead th {\n",
       "        text-align: right;\n",
       "    }\n",
       "</style>\n",
       "<table border=\"1\" class=\"dataframe\">\n",
       "  <thead>\n",
       "    <tr style=\"text-align: right;\">\n",
       "      <th></th>\n",
       "      <th>x1</th>\n",
       "      <th>x2</th>\n",
       "      <th>x3</th>\n",
       "    </tr>\n",
       "  </thead>\n",
       "  <tbody>\n",
       "    <tr>\n",
       "      <th>6</th>\n",
       "      <td>1.679657</td>\n",
       "      <td>1.653854</td>\n",
       "      <td>3.333511</td>\n",
       "    </tr>\n",
       "    <tr>\n",
       "      <th>7</th>\n",
       "      <td>0.221154</td>\n",
       "      <td>1.544366</td>\n",
       "      <td>1.765520</td>\n",
       "    </tr>\n",
       "    <tr>\n",
       "      <th>19</th>\n",
       "      <td>1.944215</td>\n",
       "      <td>-0.698394</td>\n",
       "      <td>1.245820</td>\n",
       "    </tr>\n",
       "    <tr>\n",
       "      <th>23</th>\n",
       "      <td>0.353902</td>\n",
       "      <td>0.719798</td>\n",
       "      <td>1.073701</td>\n",
       "    </tr>\n",
       "    <tr>\n",
       "      <th>26</th>\n",
       "      <td>-0.093573</td>\n",
       "      <td>2.436652</td>\n",
       "      <td>2.343079</td>\n",
       "    </tr>\n",
       "    <tr>\n",
       "      <th>30</th>\n",
       "      <td>1.290480</td>\n",
       "      <td>0.399251</td>\n",
       "      <td>1.689731</td>\n",
       "    </tr>\n",
       "    <tr>\n",
       "      <th>39</th>\n",
       "      <td>-0.839800</td>\n",
       "      <td>2.017380</td>\n",
       "      <td>1.177580</td>\n",
       "    </tr>\n",
       "    <tr>\n",
       "      <th>40</th>\n",
       "      <td>0.282551</td>\n",
       "      <td>1.060407</td>\n",
       "      <td>1.342958</td>\n",
       "    </tr>\n",
       "    <tr>\n",
       "      <th>46</th>\n",
       "      <td>0.881331</td>\n",
       "      <td>0.599168</td>\n",
       "      <td>1.480500</td>\n",
       "    </tr>\n",
       "    <tr>\n",
       "      <th>47</th>\n",
       "      <td>1.304638</td>\n",
       "      <td>0.111471</td>\n",
       "      <td>1.416109</td>\n",
       "    </tr>\n",
       "    <tr>\n",
       "      <th>48</th>\n",
       "      <td>1.681627</td>\n",
       "      <td>-0.463598</td>\n",
       "      <td>1.218029</td>\n",
       "    </tr>\n",
       "    <tr>\n",
       "      <th>56</th>\n",
       "      <td>0.065335</td>\n",
       "      <td>1.782088</td>\n",
       "      <td>1.847423</td>\n",
       "    </tr>\n",
       "    <tr>\n",
       "      <th>57</th>\n",
       "      <td>0.812081</td>\n",
       "      <td>1.719294</td>\n",
       "      <td>2.531374</td>\n",
       "    </tr>\n",
       "    <tr>\n",
       "      <th>58</th>\n",
       "      <td>1.376859</td>\n",
       "      <td>-0.012202</td>\n",
       "      <td>1.364657</td>\n",
       "    </tr>\n",
       "    <tr>\n",
       "      <th>60</th>\n",
       "      <td>1.064677</td>\n",
       "      <td>0.771648</td>\n",
       "      <td>1.836325</td>\n",
       "    </tr>\n",
       "    <tr>\n",
       "      <th>66</th>\n",
       "      <td>0.262013</td>\n",
       "      <td>1.467281</td>\n",
       "      <td>1.729294</td>\n",
       "    </tr>\n",
       "    <tr>\n",
       "      <th>71</th>\n",
       "      <td>1.019962</td>\n",
       "      <td>0.172856</td>\n",
       "      <td>1.192818</td>\n",
       "    </tr>\n",
       "    <tr>\n",
       "      <th>76</th>\n",
       "      <td>3.803078</td>\n",
       "      <td>-1.277102</td>\n",
       "      <td>2.525975</td>\n",
       "    </tr>\n",
       "    <tr>\n",
       "      <th>82</th>\n",
       "      <td>1.925600</td>\n",
       "      <td>0.699785</td>\n",
       "      <td>2.625385</td>\n",
       "    </tr>\n",
       "    <tr>\n",
       "      <th>83</th>\n",
       "      <td>0.762409</td>\n",
       "      <td>2.201390</td>\n",
       "      <td>2.963799</td>\n",
       "    </tr>\n",
       "    <tr>\n",
       "      <th>87</th>\n",
       "      <td>-0.470430</td>\n",
       "      <td>1.493957</td>\n",
       "      <td>1.023528</td>\n",
       "    </tr>\n",
       "    <tr>\n",
       "      <th>96</th>\n",
       "      <td>1.058414</td>\n",
       "      <td>0.615993</td>\n",
       "      <td>1.674407</td>\n",
       "    </tr>\n",
       "    <tr>\n",
       "      <th>98</th>\n",
       "      <td>0.539529</td>\n",
       "      <td>1.345747</td>\n",
       "      <td>1.885276</td>\n",
       "    </tr>\n",
       "  </tbody>\n",
       "</table>\n",
       "</div>"
      ],
      "text/plain": [
       "          x1        x2        x3\n",
       "6   1.679657  1.653854  3.333511\n",
       "7   0.221154  1.544366  1.765520\n",
       "19  1.944215 -0.698394  1.245820\n",
       "23  0.353902  0.719798  1.073701\n",
       "26 -0.093573  2.436652  2.343079\n",
       "30  1.290480  0.399251  1.689731\n",
       "39 -0.839800  2.017380  1.177580\n",
       "40  0.282551  1.060407  1.342958\n",
       "46  0.881331  0.599168  1.480500\n",
       "47  1.304638  0.111471  1.416109\n",
       "48  1.681627 -0.463598  1.218029\n",
       "56  0.065335  1.782088  1.847423\n",
       "57  0.812081  1.719294  2.531374\n",
       "58  1.376859 -0.012202  1.364657\n",
       "60  1.064677  0.771648  1.836325\n",
       "66  0.262013  1.467281  1.729294\n",
       "71  1.019962  0.172856  1.192818\n",
       "76  3.803078 -1.277102  2.525975\n",
       "82  1.925600  0.699785  2.625385\n",
       "83  0.762409  2.201390  2.963799\n",
       "87 -0.470430  1.493957  1.023528\n",
       "96  1.058414  0.615993  1.674407\n",
       "98  0.539529  1.345747  1.885276"
      ]
     },
     "execution_count": 22,
     "metadata": {},
     "output_type": "execute_result"
    }
   ],
   "source": [
    "d = df[df['x3']>1]\n",
    "d"
   ]
  },
  {
   "cell_type": "markdown",
   "metadata": {},
   "source": [
    "You can use the DataFrame property `shape` to access the row count and see how many rows meet the specified condition. Run the cell below and inspect the results. \n",
    "\n",
    "For more information about the `shape` property, consult the online [documentation](https://pandas.pydata.org/pandas-docs/dev/reference/api/pandas.DataFrame.shape.html)."
   ]
  },
  {
   "cell_type": "code",
   "execution_count": 23,
   "metadata": {},
   "outputs": [
    {
     "data": {
      "text/plain": [
       "23"
      ]
     },
     "execution_count": 23,
     "metadata": {},
     "output_type": "execute_result"
    }
   ],
   "source": [
    "df[df['x3']>1].shape[0]"
   ]
  },
  {
   "cell_type": "code",
   "execution_count": 26,
   "metadata": {},
   "outputs": [
    {
     "data": {
      "text/plain": [
       "6     3.333511\n",
       "7     1.765520\n",
       "19    1.245820\n",
       "23    1.073701\n",
       "26    2.343079\n",
       "30    1.689731\n",
       "39    1.177580\n",
       "40    1.342958\n",
       "46    1.480500\n",
       "47    1.416109\n",
       "48    1.218029\n",
       "56    1.847423\n",
       "57    2.531374\n",
       "58    1.364657\n",
       "60    1.836325\n",
       "66    1.729294\n",
       "71    1.192818\n",
       "76    2.525975\n",
       "82    2.625385\n",
       "83    2.963799\n",
       "87    1.023528\n",
       "96    1.674407\n",
       "98    1.885276\n",
       "Name: x3, dtype: float64"
      ]
     },
     "execution_count": 26,
     "metadata": {},
     "output_type": "execute_result"
    }
   ],
   "source": []
  },
  {
   "cell_type": "code",
   "execution_count": null,
   "metadata": {},
   "outputs": [],
   "source": []
  }
 ],
 "metadata": {
  "kernelspec": {
   "display_name": "Python 3 (ipykernel)",
   "language": "python",
   "name": "python3"
  },
  "toc": {
   "base_numbering": 1,
   "nav_menu": {},
   "number_sections": false,
   "sideBar": true,
   "skip_h1_title": false,
   "title_cell": "Table of Contents",
   "title_sidebar": "Contents",
   "toc_cell": false,
   "toc_position": {},
   "toc_section_display": true,
   "toc_window_display": false
  },
  "varInspector": {
   "cols": {
    "lenName": 16,
    "lenType": 16,
    "lenVar": 40
   },
   "kernels_config": {
    "python": {
     "delete_cmd_postfix": "",
     "delete_cmd_prefix": "del ",
     "library": "var_list.py",
     "varRefreshCmd": "print(var_dic_list())"
    },
    "r": {
     "delete_cmd_postfix": ") ",
     "delete_cmd_prefix": "rm(",
     "library": "var_list.r",
     "varRefreshCmd": "cat(var_dic_list()) "
    }
   },
   "types_to_exclude": [
    "module",
    "function",
    "builtin_function_or_method",
    "instance",
    "_Feature"
   ],
   "window_display": false
  }
 },
 "nbformat": 4,
 "nbformat_minor": 5
}
