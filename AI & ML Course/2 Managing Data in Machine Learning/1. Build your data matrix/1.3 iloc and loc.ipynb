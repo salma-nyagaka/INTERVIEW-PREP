{
 "cells": [
  {
   "cell_type": "code",
   "execution_count": 22,
   "metadata": {},
   "outputs": [
    {
     "name": "stdout",
     "output_type": "stream",
     "text": [
      "    Name\n",
      "a  Alice\n",
      "b    Bob\n"
     ]
    }
   ],
   "source": [
    "import pandas as pd\n",
    "\n",
    "df = pd.DataFrame({\n",
    "    'Name': ['Alice', 'Bob', 'Charlie'],\n",
    "    'Age': [25, 30, 35]\n",
    "}, index=['a', 'b', 'c'])\n",
    "\n",
    "\n",
    "# print(df)\n",
    "# Get row with label 'b'\n",
    "# print(df.loc['b'])\n",
    "\n",
    "# Get 'Age' of row with label 'c'\n",
    "# print(df.loc['c', 'Age'])\n",
    "\n",
    "# Get rows 'a' and 'b' with only 'Name' column\n",
    "print(df.loc[['a', 'b'], ['Name']])\n"
   ]
  },
  {
   "cell_type": "code",
   "execution_count": 23,
   "metadata": {},
   "outputs": [
    {
     "name": "stdout",
     "output_type": "stream",
     "text": [
      "a    Alice\n",
      "b      Bob\n",
      "Name: Name, dtype: object\n"
     ]
    }
   ],
   "source": [
    "# Get second row (index position 1)\n",
    "# print(df.iloc[0])\n",
    "\n",
    "# Get value at row 2, column 2 (Charlie’s age)\n",
    "# print(df.iloc[2, 1])\n",
    "\n",
    "# # Get first two rows, only first column ('Name')\n",
    "print(df.iloc[0:2, 0])"
   ]
  },
  {
   "cell_type": "markdown",
   "metadata": {},
   "source": [
    "| Feature    | `.loc[]`                          | `.iloc[]`                          |\n",
    "| ---------- | --------------------------------- | ---------------------------------- |\n",
    "| Based on   | Labels                            | Integer positions                  |\n",
    "| Syntax     | `df.loc[row_label, column_label]` | `df.iloc[row_index, column_index]` |\n",
    "| Common use | Named rows/columns                | Position-based slicing             |\n"
   ]
  },
  {
   "cell_type": "markdown",
   "metadata": {},
   "source": []
  }
 ],
 "metadata": {
  "kernelspec": {
   "display_name": "Python 3 (ipykernel)",
   "language": "python",
   "name": "python3"
  },
  "language_info": {
   "codemirror_mode": {
    "name": "ipython",
    "version": 3
   },
   "file_extension": ".py",
   "mimetype": "text/x-python",
   "name": "python",
   "nbconvert_exporter": "python",
   "pygments_lexer": "ipython3",
   "version": "3.11.0"
  }
 },
 "nbformat": 4,
 "nbformat_minor": 2
}
