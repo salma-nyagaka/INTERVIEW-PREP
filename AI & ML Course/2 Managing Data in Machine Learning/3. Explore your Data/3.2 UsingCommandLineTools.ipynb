{
 "cells": [
  {
   "cell_type": "markdown",
   "metadata": {},
   "source": [
    "# Using Command Line Tools To View Data"
   ]
  },
  {
   "cell_type": "markdown",
   "metadata": {},
   "source": [
    "##  Should I Open a Data File via a File Management Browser? Think Again "
   ]
  },
  {
   "cell_type": "markdown",
   "metadata": {},
   "source": [
    "You already encountered ways to quickly overview what your data looks like using Pandas. (Don't worry, if memory fails, we will revisit that material below!)<br>\n",
    "\n",
    "It is often useful to get the initial impression of the data before loading it into a Pandas DataFrame. <br>\n",
    "How does one look at file contents? We are all used to visual interfaces, like the file browser on your computer, and it may be tempting to simply navigate (using a file explorer on WIndows or Finder on Mac) to where your data file is located and open it. However, there are a few good reasons not to do so:<br>\n",
    "- The file may be in a **format** that is not immediately readable by a text editor (one example of such formats is `.json`, and it is very commonly used)\n",
    "- The file may be **prohibitively large**: it may contain so many lines that trying to open it in a text editor may hang your software.\n",
    "- For most purposes, you do not strictly need to look at *all* entries &mdash; usually, what we are after is simply getting a sense of how many rows and columns there are, how they are separated, and what is the type of values stored in each column. Hence, we **don't need to view all lines**, and trying to load the whole file would be overkill.\n",
    "- You may be working off **terminal / command line**, where you may not have access to window-based file browsing nor a text editor software with a nice GUI (graphical user interface).\n",
    "\n",
    "Let's talk about this last one. In machine learning jobs, you will often execute your code on a *remote server* in the cloud. That is, you will only use *your* machine to communicate with a (powerful) *remote* machine, and all the computation will be running not on your computer, but on that remote server. You will only use your machine to either edit and upload your code to a cloud instance, or you will edit it remotely and your machine will be a mere access interface to edit, manipulate, and run your project in the cloud. While working on a cloud server instance, it is typical to channel commands via the **command line**, where the options for displaying file contents are limited, and the end result is not very easy to read. \n",
    "\n",
    "<br>\n",
    "For all of these reasons, it is best to avoid opening data files using a command line text editing software, and instead develop a habit of doing the initial data exploration via  command line commands (even if you are working in Jupyter Notebooks!). Below, we show how to do this.\n",
    "\n",
    "Note: When talking about channeling **Linux** commands via the **command line**, people will sometimes use terms such as **terminal** or **console** instead. Strictly, the terminal and the console are *interfaces* that allow you to access the command line. You can use any of these terms to refer to sending commands to your computer using a text interface, and people will generally know what you mean.\n",
    "<br>"
   ]
  },
  {
   "cell_type": "markdown",
   "metadata": {},
   "source": [
    "## Initial Data Exploration with the *Command Line* Tools\n",
    "\n",
    "You will work with our usual `adult.data.partial` dataset located in the folder named `data`.\n",
    "\n",
    "### Get the Number of Lines: `cat` --> `wc -l`\n",
    "\n",
    "Examine and run the command below. "
   ]
  },
  {
   "cell_type": "code",
   "execution_count": 6,
   "metadata": {},
   "outputs": [
    {
     "name": "stdout",
     "output_type": "stream",
     "text": [
      "   48842\n"
     ]
    }
   ],
   "source": [
    "! cat /Users/salmanyagaka/Documents/interviews/adult.csv | wc -l"
   ]
  },
  {
   "cell_type": "markdown",
   "metadata": {},
   "source": [
    "The first part of the line above is the `cat` command. What `cat` does is it prints the content of a file (generally `cat` can also be used to write text into a file).\n",
    "\n",
    "\n",
    "Next is the input that we pass to the `cat` function: the file path and name.<br>\n",
    "\n",
    "After that comes the *pipe command*: the vertical bar symbol `|`. It lets you chain two commands such that the output of the first is the input to the second.<br>\n",
    "\n",
    "The second command in question is the `wc` command, for which we specified the option `-l`. While `wc` stands for \"word count\", once we pass the option `-l` to it, we specify that we want to get a count of the *lines*."
   ]
  },
  {
   "cell_type": "markdown",
   "metadata": {},
   "source": [
    "### Print the First Few Lines of the Data File: `head`"
   ]
  },
  {
   "cell_type": "markdown",
   "metadata": {},
   "source": [
    "Note that the total count that we got from piping `cat` into `wc` is 7001. If you recall, our data contained 7000 lines of data entries. Hence, this count includes the very first line that contains just the column names. \n",
    "\n",
    "In general, you won't be able to benefit from such prior knowledge, and it's always a good idea to look at the first few lines just to see if the headers are included or not (some datasets specify column names in a separate file, while the data file itself only lists the values).\n",
    "\n",
    "Let's print the first few lines using command line tools:"
   ]
  },
  {
   "cell_type": "code",
   "execution_count": 8,
   "metadata": {},
   "outputs": [
    {
     "name": "stdout",
     "output_type": "stream",
     "text": [
      "age,workclass,fnlwgt,education,educational-num,marital-status,occupation,relationship,race,gender,capital-gain,capital-loss,hours-per-week,native-country,income\n",
      "25,Private,226802,11th,7,Never-married,Machine-op-inspct,Own-child,Black,Male,0,0,40,United-States,<=50K\n",
      "38,Private,89814,HS-grad,9,Married-civ-spouse,Farming-fishing,Husband,White,Male,0,0,50,United-States,<=50K\n",
      "28,Local-gov,336951,Assoc-acdm,12,Married-civ-spouse,Protective-serv,Husband,White,Male,0,0,40,United-States,>50K\n",
      "44,Private,160323,Some-college,10,Married-civ-spouse,Machine-op-inspct,Husband,Black,Male,7688,0,40,United-States,>50K\n"
     ]
    }
   ],
   "source": [
    "! head -5 /Users/salmanyagaka/Documents/interviews/adult.csv"
   ]
  },
  {
   "cell_type": "markdown",
   "metadata": {},
   "source": [
    "Doing this, you can instantly see if the column names are included in the data or not. You see that they are. Therefore, the true number of data entries is 7000."
   ]
  },
  {
   "cell_type": "markdown",
   "metadata": {},
   "source": [
    "### Get the Number of Columns: `head` --> `tr` --> `wc`"
   ]
  },
  {
   "cell_type": "markdown",
   "metadata": {},
   "source": [
    "You can get the number of columns using the command line in this manner:\n",
    "- get the first line containing column names\n",
    "- split the first line into multiple lines, in which each column name will be on its own line\n",
    "- count the lines\n",
    "\n",
    "We already know how to do the first and the last steps. The middle step is taken care of by the `tr` command:"
   ]
  },
  {
   "cell_type": "code",
   "execution_count": 10,
   "metadata": {},
   "outputs": [
    {
     "name": "stdout",
     "output_type": "stream",
     "text": [
      "      15\n"
     ]
    }
   ],
   "source": [
    "! head -1 /Users/salmanyagaka/Documents/interviews/adult.csv | tr ',' '\\n' | wc -l"
   ]
  },
  {
   "cell_type": "code",
   "execution_count": 11,
   "metadata": {},
   "outputs": [
    {
     "name": "stdout",
     "output_type": "stream",
     "text": [
      "age\n",
      "workclass\n",
      "fnlwgt\n",
      "education\n",
      "educational-num\n",
      "marital-status\n",
      "occupation\n",
      "relationship\n",
      "race\n",
      "gender\n",
      "capital-gain\n",
      "capital-loss\n",
      "hours-per-week\n",
      "native-country\n",
      "income\n"
     ]
    }
   ],
   "source": [
    "! head -1 /Users/salmanyagaka/Documents/interviews/adult.csv | tr ',' '\\n'"
   ]
  },
  {
   "cell_type": "markdown",
   "metadata": {},
   "source": [
    "The *translate* command `tr` takes in two parameters: the original symbol or string to replace, and what to replace it with. Here, we are looking for the commas, and \"translating\" them into new lines. \n",
    "\n",
    "We see that the number of columns is 15.\n",
    "\n",
    "Note: If we printed the first few lines of a data file using `head` and saw that our data columns are separated not with a comma but, say, with a tab (which is more typical than a comma delimiter), we would use `tr '\\t' '\\n'` instead.\n"
   ]
  },
  {
   "cell_type": "markdown",
   "metadata": {},
   "source": [
    "## Initial Data Exploration with Pandas"
   ]
  },
  {
   "cell_type": "markdown",
   "metadata": {},
   "source": [
    "The cells below are a reminder of how we could answer all of the same questions about our data in Python:"
   ]
  },
  {
   "cell_type": "code",
   "execution_count": 2,
   "metadata": {},
   "outputs": [],
   "source": [
    "import pandas as pd\n",
    "import os "
   ]
  },
  {
   "cell_type": "code",
   "execution_count": 3,
   "metadata": {},
   "outputs": [],
   "source": [
    "filename = os.path.join(\"/Users/salmanyagaka/Documents/interviews/adult.csv\")\n",
    "df = pd.read_csv(filename, header=0)"
   ]
  },
  {
   "cell_type": "code",
   "execution_count": 4,
   "metadata": {},
   "outputs": [
    {
     "data": {
      "text/html": [
       "<div>\n",
       "<style scoped>\n",
       "    .dataframe tbody tr th:only-of-type {\n",
       "        vertical-align: middle;\n",
       "    }\n",
       "\n",
       "    .dataframe tbody tr th {\n",
       "        vertical-align: top;\n",
       "    }\n",
       "\n",
       "    .dataframe thead th {\n",
       "        text-align: right;\n",
       "    }\n",
       "</style>\n",
       "<table border=\"1\" class=\"dataframe\">\n",
       "  <thead>\n",
       "    <tr style=\"text-align: right;\">\n",
       "      <th></th>\n",
       "      <th>age</th>\n",
       "      <th>workclass</th>\n",
       "      <th>fnlwgt</th>\n",
       "      <th>education</th>\n",
       "      <th>educational-num</th>\n",
       "      <th>marital-status</th>\n",
       "      <th>occupation</th>\n",
       "      <th>relationship</th>\n",
       "      <th>race</th>\n",
       "      <th>gender</th>\n",
       "      <th>capital-gain</th>\n",
       "      <th>capital-loss</th>\n",
       "      <th>hours-per-week</th>\n",
       "      <th>native-country</th>\n",
       "      <th>income</th>\n",
       "    </tr>\n",
       "  </thead>\n",
       "  <tbody>\n",
       "    <tr>\n",
       "      <th>0</th>\n",
       "      <td>25</td>\n",
       "      <td>Private</td>\n",
       "      <td>226802</td>\n",
       "      <td>11th</td>\n",
       "      <td>7</td>\n",
       "      <td>Never-married</td>\n",
       "      <td>Machine-op-inspct</td>\n",
       "      <td>Own-child</td>\n",
       "      <td>Black</td>\n",
       "      <td>Male</td>\n",
       "      <td>0</td>\n",
       "      <td>0</td>\n",
       "      <td>40</td>\n",
       "      <td>United-States</td>\n",
       "      <td>&lt;=50K</td>\n",
       "    </tr>\n",
       "    <tr>\n",
       "      <th>1</th>\n",
       "      <td>38</td>\n",
       "      <td>Private</td>\n",
       "      <td>89814</td>\n",
       "      <td>HS-grad</td>\n",
       "      <td>9</td>\n",
       "      <td>Married-civ-spouse</td>\n",
       "      <td>Farming-fishing</td>\n",
       "      <td>Husband</td>\n",
       "      <td>White</td>\n",
       "      <td>Male</td>\n",
       "      <td>0</td>\n",
       "      <td>0</td>\n",
       "      <td>50</td>\n",
       "      <td>United-States</td>\n",
       "      <td>&lt;=50K</td>\n",
       "    </tr>\n",
       "    <tr>\n",
       "      <th>2</th>\n",
       "      <td>28</td>\n",
       "      <td>Local-gov</td>\n",
       "      <td>336951</td>\n",
       "      <td>Assoc-acdm</td>\n",
       "      <td>12</td>\n",
       "      <td>Married-civ-spouse</td>\n",
       "      <td>Protective-serv</td>\n",
       "      <td>Husband</td>\n",
       "      <td>White</td>\n",
       "      <td>Male</td>\n",
       "      <td>0</td>\n",
       "      <td>0</td>\n",
       "      <td>40</td>\n",
       "      <td>United-States</td>\n",
       "      <td>&gt;50K</td>\n",
       "    </tr>\n",
       "    <tr>\n",
       "      <th>3</th>\n",
       "      <td>44</td>\n",
       "      <td>Private</td>\n",
       "      <td>160323</td>\n",
       "      <td>Some-college</td>\n",
       "      <td>10</td>\n",
       "      <td>Married-civ-spouse</td>\n",
       "      <td>Machine-op-inspct</td>\n",
       "      <td>Husband</td>\n",
       "      <td>Black</td>\n",
       "      <td>Male</td>\n",
       "      <td>7688</td>\n",
       "      <td>0</td>\n",
       "      <td>40</td>\n",
       "      <td>United-States</td>\n",
       "      <td>&gt;50K</td>\n",
       "    </tr>\n",
       "    <tr>\n",
       "      <th>4</th>\n",
       "      <td>18</td>\n",
       "      <td>?</td>\n",
       "      <td>103497</td>\n",
       "      <td>Some-college</td>\n",
       "      <td>10</td>\n",
       "      <td>Never-married</td>\n",
       "      <td>?</td>\n",
       "      <td>Own-child</td>\n",
       "      <td>White</td>\n",
       "      <td>Female</td>\n",
       "      <td>0</td>\n",
       "      <td>0</td>\n",
       "      <td>30</td>\n",
       "      <td>United-States</td>\n",
       "      <td>&lt;=50K</td>\n",
       "    </tr>\n",
       "  </tbody>\n",
       "</table>\n",
       "</div>"
      ],
      "text/plain": [
       "   age  workclass  fnlwgt     education  educational-num      marital-status  \\\n",
       "0   25    Private  226802          11th                7       Never-married   \n",
       "1   38    Private   89814       HS-grad                9  Married-civ-spouse   \n",
       "2   28  Local-gov  336951    Assoc-acdm               12  Married-civ-spouse   \n",
       "3   44    Private  160323  Some-college               10  Married-civ-spouse   \n",
       "4   18          ?  103497  Some-college               10       Never-married   \n",
       "\n",
       "          occupation relationship   race  gender  capital-gain  capital-loss  \\\n",
       "0  Machine-op-inspct    Own-child  Black    Male             0             0   \n",
       "1    Farming-fishing      Husband  White    Male             0             0   \n",
       "2    Protective-serv      Husband  White    Male             0             0   \n",
       "3  Machine-op-inspct      Husband  Black    Male          7688             0   \n",
       "4                  ?    Own-child  White  Female             0             0   \n",
       "\n",
       "   hours-per-week native-country income  \n",
       "0              40  United-States  <=50K  \n",
       "1              50  United-States  <=50K  \n",
       "2              40  United-States   >50K  \n",
       "3              40  United-States   >50K  \n",
       "4              30  United-States  <=50K  "
      ]
     },
     "execution_count": 4,
     "metadata": {},
     "output_type": "execute_result"
    }
   ],
   "source": [
    "df.head()"
   ]
  },
  {
   "cell_type": "code",
   "execution_count": 5,
   "metadata": {},
   "outputs": [
    {
     "data": {
      "text/plain": [
       "(48842, 15)"
      ]
     },
     "execution_count": 5,
     "metadata": {},
     "output_type": "execute_result"
    }
   ],
   "source": [
    "df.shape"
   ]
  },
  {
   "cell_type": "markdown",
   "metadata": {},
   "source": [
    "You can see that the dimensions we got using command line tools are the same as the ones put out by Pandas tools."
   ]
  }
 ],
 "metadata": {
  "kernelspec": {
   "display_name": "Python 3 (ipykernel)",
   "language": "python",
   "name": "python3"
  },
  "language_info": {
   "codemirror_mode": {
    "name": "ipython",
    "version": 3
   },
   "file_extension": ".py",
   "mimetype": "text/x-python",
   "name": "python",
   "nbconvert_exporter": "python",
   "pygments_lexer": "ipython3",
   "version": "3.11.0"
  },
  "toc": {
   "base_numbering": 1,
   "nav_menu": {},
   "number_sections": false,
   "sideBar": true,
   "skip_h1_title": false,
   "title_cell": "Table of Contents",
   "title_sidebar": "Contents",
   "toc_cell": false,
   "toc_position": {},
   "toc_section_display": true,
   "toc_window_display": false
  },
  "varInspector": {
   "cols": {
    "lenName": 16,
    "lenType": 16,
    "lenVar": 40
   },
   "kernels_config": {
    "python": {
     "delete_cmd_postfix": "",
     "delete_cmd_prefix": "del ",
     "library": "var_list.py",
     "varRefreshCmd": "print(var_dic_list())"
    },
    "r": {
     "delete_cmd_postfix": ") ",
     "delete_cmd_prefix": "rm(",
     "library": "var_list.r",
     "varRefreshCmd": "cat(var_dic_list()) "
    }
   },
   "types_to_exclude": [
    "module",
    "function",
    "builtin_function_or_method",
    "instance",
    "_Feature"
   ],
   "window_display": false
  }
 },
 "nbformat": 4,
 "nbformat_minor": 2
}
